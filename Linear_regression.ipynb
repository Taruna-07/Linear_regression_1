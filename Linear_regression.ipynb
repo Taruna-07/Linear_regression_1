{
  "nbformat": 4,
  "nbformat_minor": 0,
  "metadata": {
    "colab": {
      "name": "Untitled1.ipynb",
      "private_outputs": true,
      "provenance": [],
      "include_colab_link": true
    },
    "kernelspec": {
      "name": "python3",
      "display_name": "Python 3"
    },
    "language_info": {
      "name": "python"
    }
  },
  "cells": [
    {
      "cell_type": "markdown",
      "metadata": {
        "id": "view-in-github",
        "colab_type": "text"
      },
      "source": [
        "<a href=\"https://colab.research.google.com/github/Taruna-07/Linear_regression_1/blob/main/Linear_regression.ipynb\" target=\"_parent\"><img src=\"https://colab.research.google.com/assets/colab-badge.svg\" alt=\"Open In Colab\"/></a>"
      ]
    },
    {
      "cell_type": "markdown",
      "metadata": {
        "id": "8dTtVE5hX2Vl"
      },
      "source": [
        "***Cloning the Github with Google Colab***"
      ]
    },
    {
      "cell_type": "code",
      "metadata": {
        "id": "26w-WBABGiu6"
      },
      "source": [
        "!git clone https://github.com/Taruna-07/Linear_regression_1"
      ],
      "execution_count": null,
      "outputs": []
    },
    {
      "cell_type": "markdown",
      "metadata": {
        "id": "8V4oLVgCYLaU"
      },
      "source": [
        "***Importing the Libraries required for the model***"
      ]
    },
    {
      "cell_type": "code",
      "metadata": {
        "id": "pt18JLWGDMVv"
      },
      "source": [
        "# Importing all libraries required in this notebook\n",
        "import pandas as pd\n",
        "import numpy as np  \n",
        "import matplotlib.pyplot as plt  \n",
        "%matplotlib inline"
      ],
      "execution_count": null,
      "outputs": []
    },
    {
      "cell_type": "markdown",
      "metadata": {
        "id": "tfDLxx9BYbD7"
      },
      "source": [
        "***From Google Colab importing the CSV file containing the data of hours and scores***"
      ]
    },
    {
      "cell_type": "code",
      "metadata": {
        "id": "CQeZIk_hPkNo"
      },
      "source": [
        "from google.colab import files\n",
        "upload = files.upload()"
      ],
      "execution_count": null,
      "outputs": []
    },
    {
      "cell_type": "markdown",
      "metadata": {
        "id": "1R-nanBxYqSw"
      },
      "source": [
        "***Reading the CSV file*** "
      ]
    },
    {
      "cell_type": "code",
      "metadata": {
        "id": "nWvM1PeoDhgU"
      },
      "source": [
        "# Reading data from the csv file\n",
        "s_data = pd.read_csv('Linear_regression_1 - Sheet1.csv')\n",
        "print(\"Data imported successfully\")\n",
        "\n",
        "s_data.head(28)"
      ],
      "execution_count": null,
      "outputs": []
    },
    {
      "cell_type": "markdown",
      "metadata": {
        "id": "seutNf06Y1SK"
      },
      "source": [
        "***Plotting the data***"
      ]
    },
    {
      "cell_type": "code",
      "metadata": {
        "id": "LioWUurEVOTh"
      },
      "source": [
        "# Plotting the distribution of scores\n",
        "s_data.plot(x='Hours', y='Scores', style='o')  \n",
        "plt.title('Hours vs Percentage')  \n",
        "plt.xlabel('Hours Studied')  \n",
        "plt.ylabel('Percentage Score')  \n",
        "plt.show()"
      ],
      "execution_count": null,
      "outputs": []
    },
    {
      "cell_type": "markdown",
      "metadata": {
        "id": "HCa4L-7QY90g"
      },
      "source": [
        "***Dividing the data into attributes and labels***"
      ]
    },
    {
      "cell_type": "code",
      "metadata": {
        "id": "I0FHY2z2Waq-"
      },
      "source": [
        "X = s_data.iloc[:, :-1].values  \n",
        "y = s_data.iloc[:, 1].values  "
      ],
      "execution_count": null,
      "outputs": []
    },
    {
      "cell_type": "markdown",
      "metadata": {
        "id": "cQ9pz_9LZZHp"
      },
      "source": [
        "***Training the model***"
      ]
    },
    {
      "cell_type": "code",
      "metadata": {
        "id": "Pw18GHgtWhOv"
      },
      "source": [
        "from sklearn.model_selection import train_test_split  \n",
        "X_train, X_test, y_train, y_test = train_test_split(X, y, \n",
        "                            test_size=0.2, random_state=0) "
      ],
      "execution_count": null,
      "outputs": []
    },
    {
      "cell_type": "code",
      "metadata": {
        "id": "hm02eTYvWlur"
      },
      "source": [
        "from sklearn.linear_model import LinearRegression  \n",
        "regressor = LinearRegression()  \n",
        "regressor.fit(X_train, y_train) \n",
        "\n",
        "print(\"Training complete.\")"
      ],
      "execution_count": null,
      "outputs": []
    },
    {
      "cell_type": "markdown",
      "metadata": {
        "id": "NL_N1_1CZhAC"
      },
      "source": [
        "***Plotting the regression model***"
      ]
    },
    {
      "cell_type": "code",
      "metadata": {
        "id": "WaBUynYGWqfx"
      },
      "source": [
        "# Plotting the regression line\n",
        "line = regressor.coef_*X+regressor.intercept_\n",
        "\n",
        "# Plotting for the test data\n",
        "plt.scatter(X, y)\n",
        "plt.plot(X, line);\n",
        "plt.show()"
      ],
      "execution_count": null,
      "outputs": []
    },
    {
      "cell_type": "markdown",
      "metadata": {
        "id": "VTIKfqy_Zobt"
      },
      "source": [
        "***Predicting the scores***"
      ]
    },
    {
      "cell_type": "code",
      "metadata": {
        "id": "wtMU82y9Wwho"
      },
      "source": [
        "print(X_test) # Testing data - In Hours\n",
        "y_pred = regressor.predict(X_test) # Predicting the scores"
      ],
      "execution_count": null,
      "outputs": []
    },
    {
      "cell_type": "markdown",
      "metadata": {
        "id": "Uf1-OfMTZzl2"
      },
      "source": [
        "***Comparing actual scores and predicted scores***"
      ]
    },
    {
      "cell_type": "code",
      "metadata": {
        "id": "1eXSHC2-W4un"
      },
      "source": [
        "# Comparing Actual vs Predicted\n",
        "df = pd.DataFrame({'Actual': y_test, 'Predicted': y_pred})  \n",
        "df "
      ],
      "execution_count": null,
      "outputs": []
    },
    {
      "cell_type": "markdown",
      "metadata": {
        "id": "1Y9KTfHsZ7EI"
      },
      "source": [
        "***Evaluating the error***"
      ]
    },
    {
      "cell_type": "code",
      "metadata": {
        "id": "FKHSJLF9W-8o"
      },
      "source": [
        "from sklearn import metrics  \n",
        "print('Mean Absolute Error:', \n",
        "      metrics.mean_absolute_error(y_test, y_pred)) "
      ],
      "execution_count": null,
      "outputs": []
    }
  ]
}